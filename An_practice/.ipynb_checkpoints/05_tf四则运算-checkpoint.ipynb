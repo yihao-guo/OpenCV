{
 "cells": [
  {
   "cell_type": "code",
   "execution_count": 2,
   "metadata": {},
   "outputs": [
    {
     "name": "stdout",
     "output_type": "stream",
     "text": [
      "8\n",
      "12\n",
      "4\n",
      "3.0\n",
      "end!\n"
     ]
    }
   ],
   "source": [
    "import tensorflow as tf\n",
    "data1=tf.constant(6)\n",
    "data2=tf.constant(2)\n",
    "dataAdd=tf.add(data1,data2)\n",
    "dataMul=tf.multiply(data1,data2)\n",
    "dataSub=tf.subtract(data1,data2)\n",
    "dataDiv=tf.divide(data1,data2)\n",
    "with tf.Session() as sess:\n",
    "    print(sess.run(dataAdd))\n",
    "    print(sess.run(dataMul))    \n",
    "    print(sess.run(dataSub))\n",
    "    print(sess.run(dataDiv))    \n",
    "print('end!')   "
   ]
  },
  {
   "cell_type": "code",
   "execution_count": 3,
   "metadata": {},
   "outputs": [
    {
     "name": "stdout",
     "output_type": "stream",
     "text": [
      "8\n",
      "12\n",
      "4\n",
      "3.0\n",
      "end!\n"
     ]
    }
   ],
   "source": [
    "import tensorflow as tf\n",
    "data1=tf.constant(6)\n",
    "data2=tf.Variable(2)\n",
    "dataAdd=tf.add(data1,data2)\n",
    "dataMul=tf.multiply(data1,data2)\n",
    "dataSub=tf.subtract(data1,data2)\n",
    "dataDiv=tf.divide(data1,data2)\n",
    "init=tf.global_variables_initializer()\n",
    "with tf.Session() as sess:\n",
    "    sess.run(init)\n",
    "    print(sess.run(dataAdd)) \n",
    "    print(sess.run(dataMul))    \n",
    "    print(sess.run(dataSub))\n",
    "    print(sess.run(dataDiv))    \n",
    "print('end!')   "
   ]
  },
  {
   "cell_type": "code",
   "execution_count": 5,
   "metadata": {},
   "outputs": [
    {
     "name": "stdout",
     "output_type": "stream",
     "text": [
      "8\n",
      "12\n",
      "4\n",
      "3.0\n",
      "sess.run(dataCopy) 8\n",
      "dataCopy.eval() 14\n",
      "tf.get_default_sessione() 20\n",
      "end!\n"
     ]
    }
   ],
   "source": [
    "import tensorflow as tf\n",
    "data1=tf.constant(6)\n",
    "data2=tf.Variable(2)\n",
    "dataAdd=tf.add(data1,data2)\n",
    "dataCopy=tf.assign(data2,dataAdd)#dataAdd->data2\n",
    "    #dataCopy把dataAdd=8 给data2\n",
    "dataMul=tf.multiply(data1,data2)\n",
    "dataSub=tf.subtract(data1,data2)\n",
    "dataDiv=tf.divide(data1,data2)\n",
    "init=tf.global_variables_initializer()\n",
    "with tf.Session() as sess:\n",
    "    sess.run(init)\n",
    "    print(sess.run(dataAdd)) \n",
    "    print(sess.run(dataMul))    \n",
    "    print(sess.run(dataSub))\n",
    "    print(sess.run(dataDiv))\n",
    "    #三种变量的输出方式\n",
    "    print('sess.run(dataCopy)',sess.run(dataCopy))#8->data2\n",
    "    print('dataCopy.eval()',dataCopy.eval())#相当于获取一个默认session\n",
    "    #8+6->14->data=14\n",
    "    print('tf.get_default_sessione()',tf.get_default_session().run(dataCopy))\n",
    "    #14+6->20\n",
    "print('end!')"
   ]
  },
  {
   "cell_type": "code",
   "execution_count": null,
   "metadata": {},
   "outputs": [],
   "source": []
  }
 ],
 "metadata": {
  "kernelspec": {
   "display_name": "Python 3",
   "language": "python",
   "name": "python3"
  },
  "language_info": {
   "codemirror_mode": {
    "name": "ipython",
    "version": 3
   },
   "file_extension": ".py",
   "mimetype": "text/x-python",
   "name": "python",
   "nbconvert_exporter": "python",
   "pygments_lexer": "ipython3",
   "version": "3.6.8"
  }
 },
 "nbformat": 4,
 "nbformat_minor": 2
}
