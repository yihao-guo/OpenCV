{
 "cells": [
  {
   "cell_type": "code",
   "execution_count": 13,
   "metadata": {},
   "outputs": [
    {
     "name": "stdout",
     "output_type": "stream",
     "text": [
      "9.0\n",
      "end!\n"
     ]
    }
   ],
   "source": [
    "#placehold\n",
    "import tensorflow as tf\n",
    "data1=tf.placeholder(tf.float32)#先定义 不赋值\n",
    "data2=tf.placeholder(tf.float32)\n",
    "dataAdd=tf.add(data1,data2)\n",
    "with tf.Session() as sess:\n",
    "    print(sess.run(dataAdd,feed_dict={data1:4,data2:5}))#给定义的值赋值\n",
    "print('end!')"
   ]
  },
  {
   "cell_type": "code",
   "execution_count": null,
   "metadata": {},
   "outputs": [],
   "source": [
    "#矩阵用类比 数组 M行N列[M个[N个数据]] \n",
    "import tensorflow as tf\n",
    "data1=tf.constant([[6,7]])\n",
    "data2=tf.constant([[2],\n",
    "                    [3]])\n",
    "data3=tf.constant([[3,4]])\n",
    "data4=tf.constant([[1,2],\n",
    "                  [3,4],\n",
    "                  [5,6]])\n",
    "print(data4.shape)#维度\n",
    "print('***')\n",
    "with tf.Session() as sess:\n",
    "    print(sess.run(data4))#打印矩阵里的数据\n",
    "    print('***')\n",
    "    print(sess.run(data4[0]))#打印某一行\n",
    "    print('***')\n",
    "    print(sess.run(data4[:,0]))#打印列\n",
    "    print('***')\n",
    "    print(sess.run(data4[0,0]))#第一行第一列"
   ]
  },
  {
   "cell_type": "code",
   "execution_count": 3,
   "metadata": {},
   "outputs": [
    {
     "name": "stdout",
     "output_type": "stream",
     "text": [
      "[[24]]\n",
      "[[9 9]]\n",
      "[[12 12]\n",
      " [12 12]]\n",
      "[array([[24]]), array([[9, 9]])]\n"
     ]
    }
   ],
   "source": [
    "#矩阵的加乘操作 与线性代数矩阵运算一个样\n",
    "import tensorflow as tf\n",
    "data1=tf.constant([[6,6]])\n",
    "data2=tf.constant([[2],\n",
    "                  [2]])\n",
    "data3=tf.constant([[3,3]])\n",
    "data4=tf.constant([[1,2],[3,4],[5,6]])\n",
    "matMul=tf.matmul(data1,data2)#1*2  x  2*1  =  1*1 正常的矩阵乘法\n",
    "matMul2=tf.multiply(data1,data2)#对应位相乘\n",
    "matAdd=tf.add(data1,data3)#对应位置相加\n",
    "with tf.Session() as sess:\n",
    "    print(sess.run(matMul))\n",
    "    print(sess.run(matAdd))\n",
    "    print(sess.run(matMul2))\n",
    "    print(sess.run([matMul,matAdd]))#一起打印的方法"
   ]
  },
  {
   "cell_type": "code",
   "execution_count": 12,
   "metadata": {},
   "outputs": [
    {
     "name": "stdout",
     "output_type": "stream",
     "text": [
      "[[0 0 0]\n",
      " [0 0 0]]\n",
      "[[0. 0. 0.]\n",
      " [0. 0. 0.]]\n",
      "[[1. 1. 1.]\n",
      " [1. 1. 1.]]\n",
      "[[15 15 15]\n",
      " [15 15 15]]\n",
      "[[2]\n",
      " [3]\n",
      " [4]]\n",
      "[[0]\n",
      " [0]\n",
      " [0]]\n",
      "[0.         0.22222222 0.44444445 0.6666667  0.8888889  1.1111112\n",
      " 1.3333334  1.5555556  1.7777778  2.        ]\n",
      "[[ 1.7950892   1.3230877   0.05613911]\n",
      " [ 1.7732935  -0.0970161   1.8442507 ]]\n"
     ]
    }
   ],
   "source": [
    "#几个特殊的矩阵定义方法\n",
    "import tensorflow as tf\n",
    "mat0=tf.constant([[0,0,0],[0,0,0]])\n",
    "mat1=tf.zeros([2,3])#d定义一个两行三列的0矩阵\n",
    "mat2=tf.ones([2,3])#定义一个两行三行列的1矩阵\n",
    "mat3=tf.fill([2,3],15)#定义一个自定义数值的两行三列矩阵\n",
    "mat4=tf.constant([[2],[3],[4]])\n",
    "mat5=tf.zeros_like(mat4)#定义一个与mat4矩阵相同结构的矩阵\n",
    "mat6=tf.linspace(0.0,2.0,10)#定义一个矩阵 从0~2 分10份\n",
    "mat7=tf.random_uniform([2,3],-1,2)#定义一个两行三列的矩阵，数值为-1~2的任意值\n",
    "with tf.Session() as sess:#输出\n",
    "    print(sess.run(mat0))\n",
    "    print(sess.run(mat1))\n",
    "    print(sess.run(mat2))\n",
    "    print(sess.run(mat3))\n",
    "    print(sess.run(mat4))\n",
    "    print(sess.run(mat5))\n",
    "    print(sess.run(mat6))\n",
    "    print(sess.run(mat7))\n",
    "    "
   ]
  },
  {
   "cell_type": "code",
   "execution_count": null,
   "metadata": {},
   "outputs": [],
   "source": []
  }
 ],
 "metadata": {
  "kernelspec": {
   "display_name": "Python 3",
   "language": "python",
   "name": "python3"
  },
  "language_info": {
   "codemirror_mode": {
    "name": "ipython",
    "version": 3
   },
   "file_extension": ".py",
   "mimetype": "text/x-python",
   "name": "python",
   "nbconvert_exporter": "python",
   "pygments_lexer": "ipython3",
   "version": "3.6.8"
  }
 },
 "nbformat": 4,
 "nbformat_minor": 2
}
