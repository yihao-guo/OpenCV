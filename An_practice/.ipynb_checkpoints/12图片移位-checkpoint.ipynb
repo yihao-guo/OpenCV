{
 "cells": [
  {
   "cell_type": "code",
   "execution_count": 8,
   "metadata": {},
   "outputs": [
    {
     "data": {
      "text/plain": [
       "-1"
      ]
     },
     "execution_count": 8,
     "metadata": {},
     "output_type": "execute_result"
    }
   ],
   "source": [
    "#API方法\n",
    "import cv2\n",
    "import numpy as np\n",
    "img=cv2.imread('image_3.jpg',1)\n",
    "cv2.imshow('src',img)\n",
    "imgInfo=img.shape\n",
    "height=imgInfo[0]\n",
    "width=imgInfo[1]\n",
    "####\n",
    "matShift=np.float32([[1,0,100],[0,1,200]])#2*3\n",
    "'''\n",
    "此处传入的是一个2*3的矩阵的原理：\n",
    "其中将其拆分为一个2*2与一个2*1的矩阵\n",
    "[[1,0],[0,1]]->A（前两位）   [[100],[200]]->B（最后一位）\n",
    "其中原来图像x,y->C\n",
    "根究公式A*C+B得到移动后的坐标\n",
    "即：\n",
    "[[1*x+0*y],[0*x+1*y]]+[[100],[200]]\n",
    "=[[x+100],[y+200]]\n",
    "这就是原来x,y移动后的坐标\n",
    "'''\n",
    "dst=cv2.warpAffine(img,matShift,(height,width))\n",
    "#第一个参数为图片  第二个为转移的矩阵  第三个为（展示图片高与宽）\n",
    "cv2.imshow('dst',dst)\n",
    "cv2.waitKey(0)"
   ]
  },
  {
   "cell_type": "code",
   "execution_count": null,
   "metadata": {},
   "outputs": [],
   "source": [
    "#手动方法\n",
    "import cv2\n",
    "import numpy as np\n",
    "img=cv2.imread('image_3.jpg',1)\n",
    "cv2.imshow('src',img)\n",
    "imgInfo=img.shape\n",
    "height=imgInfo[0]\n",
    "width=imgInfo[1]\n",
    "dst=np.zeros(img.shape,np.uint8)\n",
    "for i in range(0,height):\n",
    "    for j in range(0,width-100):\n",
    "        dst[i,j+100]=img[i,j]#向右移动100像素\n",
    "cv2.imshow('image',dst)\n",
    "cv2.waitKey(0)"
   ]
  },
  {
   "cell_type": "code",
   "execution_count": null,
   "metadata": {},
   "outputs": [],
   "source": []
  }
 ],
 "metadata": {
  "kernelspec": {
   "display_name": "Python 3",
   "language": "python",
   "name": "python3"
  },
  "language_info": {
   "codemirror_mode": {
    "name": "ipython",
    "version": 3
   },
   "file_extension": ".py",
   "mimetype": "text/x-python",
   "name": "python",
   "nbconvert_exporter": "python",
   "pygments_lexer": "ipython3",
   "version": "3.6.8"
  }
 },
 "nbformat": 4,
 "nbformat_minor": 2
}
