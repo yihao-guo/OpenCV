{
 "cells": [
  {
   "cell_type": "code",
   "execution_count": 1,
   "metadata": {},
   "outputs": [
    {
     "data": {
      "text/plain": [
       "-1"
      ]
     },
     "execution_count": 1,
     "metadata": {},
     "output_type": "execute_result"
    }
   ],
   "source": [
    "import cv2\n",
    "import numpy as np\n",
    "newImageInfo=(500,500,3)\n",
    "dst=np.zeros(newImageInfo,np.uint8)\n",
    "#矩形 1，目标图片 2，左上角 3 右下角 4，颜色 5，内容是否填充\n",
    "cv2.rectangle(dst,(50,100),(200,300),(255,0,0),-1)#>0表示宽度\n",
    "#圆形 1，目标图 2，半径坐标，3长度，4 颜色深度 5宽度\n",
    "cv2.circle(dst,(250,250),(50),(0,255,0),2)\n",
    "#椭圆 1 信息 2 长轴3 短轴 4 偏转角度 5 起始角度 6 结束角度 7 颜色 8是否填充（宽度）\n",
    "cv2.ellipse(dst,(256,256),(150,100),0,0,180,(255,255,0),-1)\n",
    "#任意多边形\n",
    "points=np.array([[150,50],[140,140],[200,170],[250,250]],np.int32)\n",
    "points=points.reshape((-1,1,2))#维度转换\n",
    "cv2.polylines(dst,[points],True,(0,255,255))\n",
    "cv2.imshow('dst',dst)\n",
    "cv2.waitKey(0)"
   ]
  },
  {
   "cell_type": "code",
   "execution_count": null,
   "metadata": {},
   "outputs": [],
   "source": []
  }
 ],
 "metadata": {
  "kernelspec": {
   "display_name": "Python 3",
   "language": "python",
   "name": "python3"
  },
  "language_info": {
   "codemirror_mode": {
    "name": "ipython",
    "version": 3
   },
   "file_extension": ".py",
   "mimetype": "text/x-python",
   "name": "python",
   "nbconvert_exporter": "python",
   "pygments_lexer": "ipython3",
   "version": "3.6.8"
  }
 },
 "nbformat": 4,
 "nbformat_minor": 2
}
