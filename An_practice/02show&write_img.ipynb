{
 "cells": [
  {
   "cell_type": "code",
   "execution_count": 3,
   "metadata": {},
   "outputs": [
    {
     "data": {
      "text/plain": [
       "-1"
      ]
     },
     "execution_count": 3,
     "metadata": {},
     "output_type": "execute_result"
    }
   ],
   "source": [
    "#1引入opencv 2 调用API 3 stop（为了看到效果，防止出错误）\n",
    "import cv2\n",
    "img=cv2.imread('show.jpg',1)#用于读取图片 有两个参数，\n",
    "#第一个为图片的名称，第二个为图片的类型，若为0，则为灰色；1为彩色\n",
    "#有返回值；\n",
    "cv2.imshow('image',img)#展示，第一个参数为窗口名称，第二个为当前图片内容\n",
    "cv2.waitKey(0)#暂停一下"
   ]
  },
  {
   "cell_type": "code",
   "execution_count": 5,
   "metadata": {},
   "outputs": [
    {
     "data": {
      "text/plain": [
       "True"
      ]
     },
     "execution_count": 5,
     "metadata": {},
     "output_type": "execute_result"
    }
   ],
   "source": [
    "import cv2\n",
    "img=cv2.imread('show.jpg',1)\n",
    "cv2.imwrite('write_show.jpg',img)#第一个参数为图片名字，第二个为图片数据\n",
    "#在文件夹中，就会出现名字为write_show.jpg 内容为show.jpg的图片；"
   ]
  },
  {
   "cell_type": "code",
   "execution_count": 5,
   "metadata": {},
   "outputs": [
    {
     "data": {
      "text/plain": [
       "True"
      ]
     },
     "execution_count": 5,
     "metadata": {},
     "output_type": "execute_result"
    }
   ],
   "source": [
    "#jpg压缩\n",
    "import cv2 as gyh\n",
    "img=gyh.imread('show.jpg',1)\n",
    "gyh.imwrite('image_quality.jpg',img,[gyh.IMWRITE_JPEG_QUALITY,0])\n",
    "#jpg图片压缩一般10倍所有看不出质量差距 \n",
    "#IMWRITE_JPEG_QUALITY后边的值为0-100 是有损压缩，值越小质量越差，图片越小\n"
   ]
  },
  {
   "cell_type": "code",
   "execution_count": null,
   "metadata": {},
   "outputs": [],
   "source": [
    "#png压缩\n",
    "import cv2 as gyh\n",
    "img=gyh.imread('show.jpg',1)\n",
    "gyh.imwrite('image_quality.png',img,[gyh.IMWRITE_PNG_COMPRESSION,9])\n",
    "#png 用IMWRITE_PNG_COMPRESSION压缩 参数为0-9，数越大，质量越差，图片越小"
   ]
  },
  {
   "cell_type": "code",
   "execution_count": null,
   "metadata": {},
   "outputs": [],
   "source": []
  }
 ],
 "metadata": {
  "kernelspec": {
   "display_name": "Python 3",
   "language": "python",
   "name": "python3"
  },
  "language_info": {
   "codemirror_mode": {
    "name": "ipython",
    "version": 3
   },
   "file_extension": ".py",
   "mimetype": "text/x-python",
   "name": "python",
   "nbconvert_exporter": "python",
   "pygments_lexer": "ipython3",
   "version": "3.6.8"
  }
 },
 "nbformat": 4,
 "nbformat_minor": 2
}
