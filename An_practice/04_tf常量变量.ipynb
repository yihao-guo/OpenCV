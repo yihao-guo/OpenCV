{
 "cells": [
  {
   "cell_type": "code",
   "execution_count": 11,
   "metadata": {},
   "outputs": [
    {
     "name": "stdout",
     "output_type": "stream",
     "text": [
      "Tensor(\"Const_11:0\", shape=(), dtype=float32)\n",
      "<tf.Variable 'var_8:0' shape=() dtype=int32_ref>\n",
      "10\n"
     ]
    }
   ],
   "source": [
    "import tensorflow as tf\n",
    "data1=tf.constant(2.5)#常量的定义\n",
    "data2=tf.Variable(10,name='var')#变量的定义\n",
    "data3=tf.constant(2,dtype=tf.int32)#定点数的定义\n",
    "print(data1)#直接打印，打印出的是描述信息\n",
    "print(data2)\n",
    "'''\n",
    "sess=tf.Session()\n",
    "print(sess.run(data1))#打印常量\n",
    "print(sess.run(data3))\n",
    "init=tf.global_variables_initializer()#打印变量需要初始化\n",
    "sess.run(init)\n",
    "print(sess.run(data2))\n",
    "sess.close()\n",
    "#本质 tf=tensor op 计算图\n",
    "#tensor的本质就是数据例如常量，变量\n",
    "#op 表示操作\n",
    "#计算图实际就是数据与操作的过程\n",
    "#session \n",
    "'''\n",
    "init=tf.global_variables_initializer()#变量初始化\n",
    "sess=tf.Session()\n",
    "with sess:   #利用with关键字来写ssession用完之后自动关闭不用close\n",
    "    sess.run(init)#运行变量\n",
    "    print(sess.run(data2))"
   ]
  },
  {
   "cell_type": "code",
   "execution_count": null,
   "metadata": {},
   "outputs": [],
   "source": []
  }
 ],
 "metadata": {
  "kernelspec": {
   "display_name": "Python 3",
   "language": "python",
   "name": "python3"
  },
  "language_info": {
   "codemirror_mode": {
    "name": "ipython",
    "version": 3
   },
   "file_extension": ".py",
   "mimetype": "text/x-python",
   "name": "python",
   "nbconvert_exporter": "python",
   "pygments_lexer": "ipython3",
   "version": "3.6.8"
  }
 },
 "nbformat": 4,
 "nbformat_minor": 2
}
