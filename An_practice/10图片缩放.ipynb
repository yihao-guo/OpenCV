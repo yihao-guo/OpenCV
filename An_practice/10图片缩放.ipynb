{
 "cells": [
  {
   "cell_type": "code",
   "execution_count": 3,
   "metadata": {},
   "outputs": [
    {
     "name": "stdout",
     "output_type": "stream",
     "text": [
      "(1440, 1080, 3)\n"
     ]
    },
    {
     "data": {
      "text/plain": [
       "-1"
      ]
     },
     "execution_count": 3,
     "metadata": {},
     "output_type": "execute_result"
    }
   ],
   "source": [
    "#1完成图片架在你 2 获取图片信息 3 resize改变大小 4 检查结果\n",
    "import cv2\n",
    "img=cv2.imread('image_3.jpg',1)\n",
    "imgInfo=img.shape\n",
    "print(imgInfo)#输出的三个数据为高度，宽度，模式，模式为3即一个像素点由三种颜色组成\n",
    "height=imgInfo[0]\n",
    "width=imgInfo[1]\n",
    "mode=imgInfo[2]\n",
    "#1 放大 缩小2 等比例 非等比例\n",
    "dstHeight=int(height*0.2)#高度变为0.2倍\n",
    "dstWidth=int(width*0.2)#宽度变为0.2倍\n",
    "#最近邻域插值 双线性插值 像素关系重采样 立方插值\n",
    "dst=cv2.resize(img,(dstWidth,dstHeight))#双线性插值（下次介绍）\n",
    "cv2.imshow('image',dst)\n",
    "cv2.waitKey(0)"
   ]
  },
  {
   "cell_type": "code",
   "execution_count": 12,
   "metadata": {},
   "outputs": [
    {
     "data": {
      "text/plain": [
       "-1"
      ]
     },
     "execution_count": 12,
     "metadata": {},
     "output_type": "execute_result"
    }
   ],
   "source": [
    "#最近临域插值 双线性插值 原理\n",
    "#src(原图像) 10*20 dst（目标图片） 5*10\n",
    "#可以用原图像上的点src表示目标图像上的点dst\n",
    "#原图像的点（2,4）表示目标图像的点（1,2）\n",
    "#目标图像（x,y）原图像的（x,y）?\n",
    "#newx=x*(src行/目标行)  newx=1*(10/5)=2\n",
    "#newy=y*(src列/目标列)  newy=2*(20/10)=4\n",
    "#12.3取12 -->最近邻域插值法\n",
    "#比如有一个点（15.2,22.3）-->(15,22)(最近邻域插值法)\n",
    "#A1=20%*上点+80%*下点\n",
    "#B1=30%*左点+70%*右点\n",
    "#最终点=A1*30%+A2*70%=B1*20%+B2*80%(双线插值法)\n",
    "\n",
    "#用源码实现最近邻域插值法（相当于API的resize）\n",
    "import cv2\n",
    "import numpy as np\n",
    "img=cv2.imread('image_3.jpg',1)\n",
    "imgInfo=img.shape\n",
    "height=imgInfo[0]\n",
    "width=imgInfo[1]\n",
    "dstHeight=int(height/2)\n",
    "dstWidth=int(width/2)\n",
    "dstImage=np.zeros((dstHeight,dstWidth,3),np.uint8)#0-255\n",
    "for i in range(0,dstHeight):#行\n",
    "    for j in range(0,dstWidth):#列\n",
    "        iNew=int(i*(height*1.0/dstHeight))\n",
    "        jNew=int(j*(width*1.0/dstWidth))\n",
    "        dstImage[i,j]=img[iNew,jNew]\n",
    "cv2.imshow('dst',dstImage)\n",
    "cv2.waitKey(0)"
   ]
  },
  {
   "cell_type": "code",
   "execution_count": null,
   "metadata": {},
   "outputs": [],
   "source": []
  }
 ],
 "metadata": {
  "kernelspec": {
   "display_name": "Python 3",
   "language": "python",
   "name": "python3"
  },
  "language_info": {
   "codemirror_mode": {
    "name": "ipython",
    "version": 3
   },
   "file_extension": ".py",
   "mimetype": "text/x-python",
   "name": "python",
   "nbconvert_exporter": "python",
   "pygments_lexer": "ipython3",
   "version": "3.6.8"
  }
 },
 "nbformat": 4,
 "nbformat_minor": 2
}
