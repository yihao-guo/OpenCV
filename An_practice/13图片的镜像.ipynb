{
 "cells": [
  {
   "cell_type": "code",
   "execution_count": 1,
   "metadata": {},
   "outputs": [
    {
     "data": {
      "text/plain": [
       "-1"
      ]
     },
     "execution_count": 1,
     "metadata": {},
     "output_type": "execute_result"
    }
   ],
   "source": [
    "#1 创建一个足够大的画板 宽不变 长*2\n",
    "#2 将一幅图从前向后，从后向前绘制\n",
    "#3 绘制中心分割线\n",
    "import cv2\n",
    "import numpy as np\n",
    "img=cv2.imread('show.jpg',1)\n",
    "cv2.imshow('src',img)\n",
    "imgInfo=img.shape\n",
    "height=imgInfo[0]\n",
    "width=imgInfo[1]\n",
    "deep=imgInfo[2]#每个像素有几种颜色组成\n",
    "newImgInfo=(height*2,width,deep)\n",
    "dst=np.zeros(newImgInfo,np.uint8)\n",
    "for i in range(0,height):\n",
    "    for j in range(0,width):\n",
    "        dst[i,j]=img[i,j]\n",
    "        dst[height*2-i-1,j]=img[i,j]\n",
    "for i in range(0,width):\n",
    "    dst[height,i]=(0,0,255)\n",
    "cv2.imshow('dst',dst)\n",
    "cv2.waitKey(0)"
   ]
  },
  {
   "cell_type": "code",
   "execution_count": null,
   "metadata": {},
   "outputs": [],
   "source": []
  },
  {
   "cell_type": "code",
   "execution_count": null,
   "metadata": {},
   "outputs": [],
   "source": []
  }
 ],
 "metadata": {
  "kernelspec": {
   "display_name": "Python 3",
   "language": "python",
   "name": "python3"
  },
  "language_info": {
   "codemirror_mode": {
    "name": "ipython",
    "version": 3
   },
   "file_extension": ".py",
   "mimetype": "text/x-python",
   "name": "python",
   "nbconvert_exporter": "python",
   "pygments_lexer": "ipython3",
   "version": "3.6.8"
  }
 },
 "nbformat": 4,
 "nbformat_minor": 2
}
