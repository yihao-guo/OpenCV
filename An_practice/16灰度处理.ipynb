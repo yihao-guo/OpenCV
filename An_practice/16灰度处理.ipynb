{
 "cells": [
  {
   "cell_type": "code",
   "execution_count": 9,
   "metadata": {},
   "outputs": [
    {
     "name": "stdout",
     "output_type": "stream",
     "text": [
      "(400, 400)\n",
      "(400, 400, 3)\n"
     ]
    },
    {
     "data": {
      "text/plain": [
       "-1"
      ]
     },
     "execution_count": 9,
     "metadata": {},
     "output_type": "execute_result"
    }
   ],
   "source": [
    "#imread方法\n",
    "import cv2\n",
    "img0=cv2.imread('show.jpg',0)#灰色图片颜色深度默认为1，不显示\n",
    "img1=cv2.imread('show.jpg',1)#彩色图片颜色深度为3，BGR\n",
    "print(img0.shape)\n",
    "print(img1.shape)\n",
    "cv2.imshow('src',img0)\n",
    "cv2.waitKey(0)"
   ]
  },
  {
   "cell_type": "code",
   "execution_count": 8,
   "metadata": {},
   "outputs": [
    {
     "data": {
      "text/plain": [
       "-1"
      ]
     },
     "execution_count": 8,
     "metadata": {},
     "output_type": "execute_result"
    }
   ],
   "source": [
    "#cvColor方法\n",
    "import cv2\n",
    "img=cv2.imread('show.jpg',1)\n",
    "dst=cv2.cvtColor(img,cv2.COLOR_BGR2GRAY)\n",
    "#第一个参数为图片信息，第二个为变为灰色\n",
    "cv2.imshow('dst',dst)\n",
    "cv2.waitKey(0)\n"
   ]
  },
  {
   "cell_type": "code",
   "execution_count": 2,
   "metadata": {},
   "outputs": [
    {
     "data": {
      "text/plain": [
       "-1"
      ]
     },
     "execution_count": 2,
     "metadata": {},
     "output_type": "execute_result"
    }
   ],
   "source": [
    "import cv2\n",
    "import numpy as np\n",
    "img=cv2.imread('image_3.jpg',1)\n",
    "imgInfo=img.shape\n",
    "height=imgInfo[0]\n",
    "width=imgInfo[1]\n",
    "dst=np.zeros((height,width,3),np.uint8)\n",
    "for i in range(0,height):\n",
    "    for j in range(0,width):\n",
    "        #当b=g=r时为灰色\n",
    "        (b,g,r)=img[i,j] #获取像素点的bgr像素值\n",
    "        gray=(int(b)+int(g)+int(r))/3 #防止溢出\n",
    "        dst[i,j]=np.uint8(gray)\n",
    "cv2.imshow('dst',dst)\n",
    "cv2.waitKey(0)"
   ]
  },
  {
   "cell_type": "code",
   "execution_count": 6,
   "metadata": {},
   "outputs": [
    {
     "data": {
      "text/plain": [
       "-1"
      ]
     },
     "execution_count": 6,
     "metadata": {},
     "output_type": "execute_result"
    }
   ],
   "source": [
    "#gray=r*0.299+g*0.589+b*0.114\n",
    "import cv2\n",
    "import numpy as np\n",
    "img=cv2.imread('image_3.jpg',1)\n",
    "imgInfo=img.shape\n",
    "height=imgInfo[0]\n",
    "width=imgInfo[1]\n",
    "dst=np.zeros((height,width,3),np.uint8)\n",
    "for i in range(0,height):\n",
    "    for j in range(0,width):\n",
    "        (b,g,r)=img[i,j] #获取像素点的bgr像素值\n",
    "        b=int(b)\n",
    "        g=int(g)\n",
    "        r=int(r)\n",
    "        gray=r*0.299+g*0.587+b*0.114\n",
    "        dst[i,j]=np.uint8(gray)\n",
    "cv2.imshow('dst',dst)\n",
    "cv2.waitKey(0)"
   ]
  },
  {
   "cell_type": "code",
   "execution_count": 9,
   "metadata": {},
   "outputs": [
    {
     "data": {
      "text/plain": [
       "-1"
      ]
     },
     "execution_count": 9,
     "metadata": {},
     "output_type": "execute_result"
    }
   ],
   "source": [
    "import cv2\n",
    "import numpy as np\n",
    "img=cv2.imread('image_3.jpg',1)\n",
    "imgInfo=img.shape\n",
    "height=imgInfo[0]\n",
    "width=imgInfo[1]\n",
    "dst=np.zeros((height,width,3),np.uint8)\n",
    "for i in range(0,height):\n",
    "    for j in range(0,width):\n",
    "        #当b=g=r时为灰色\n",
    "        (b,g,r)=img[i,j] #获取像素点的bgr像素值\n",
    "        b=int(b)\n",
    "        g=int(g)\n",
    "        r=int(r)\n",
    "        #gray=r*0.299+g*0.587+b*0.114 \n",
    "        #gray=(r*1+g*2+b*1)/4 浮点转化为定点运算（先乘4化为定点，再除以4）\n",
    "        gray=(r+(g<<1)+b)>>2#定点运算转为移位运算\n",
    "        #*2相当于左移一位；/4相当于右移两位\n",
    "        #定点运算快于浮点，+-快于*/   >>运算快\n",
    "        dst[i,j]=np.uint8(gray)\n",
    "cv2.imshow('dst',dst)\n",
    "cv2.waitKey(0)"
   ]
  },
  {
   "cell_type": "code",
   "execution_count": null,
   "metadata": {},
   "outputs": [],
   "source": []
  }
 ],
 "metadata": {
  "kernelspec": {
   "display_name": "Python 3",
   "language": "python",
   "name": "python3"
  },
  "language_info": {
   "codemirror_mode": {
    "name": "ipython",
    "version": 3
   },
   "file_extension": ".py",
   "mimetype": "text/x-python",
   "name": "python",
   "nbconvert_exporter": "python",
   "pygments_lexer": "ipython3",
   "version": "3.6.8"
  }
 },
 "nbformat": 4,
 "nbformat_minor": 2
}
