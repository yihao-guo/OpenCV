{
 "cells": [
  {
   "cell_type": "code",
   "execution_count": 6,
   "metadata": {},
   "outputs": [
    {
     "data": {
      "text/plain": [
       "-1"
      ]
     },
     "execution_count": 6,
     "metadata": {},
     "output_type": "execute_result"
    }
   ],
   "source": [
    "#马赛克原理是某一范围内的像素颜色一致\n",
    "import cv2 \n",
    "import numpy as np\n",
    "img=cv2.imread('show.jpg',1)\n",
    "imgInfo=img.shape\n",
    "height=imgInfo[0]\n",
    "width=imgInfo[1]\n",
    "for m in range(0,300):\n",
    "    for n in range(100,200):#定义一个区域显示马赛克\n",
    "        if m%10==0 and n%10==0:\n",
    "            for i in range(0,10):\n",
    "                for j in range(0,10):\n",
    "                    (b,g,r)=img[m,n]\n",
    "                    img[i+m,j+n]=(b,g,r)#k每10个像素颜色一样\n",
    "cv2.imshow('dst',img)\n",
    "cv2.waitKey(0)"
   ]
  },
  {
   "cell_type": "code",
   "execution_count": null,
   "metadata": {},
   "outputs": [],
   "source": []
  }
 ],
 "metadata": {
  "kernelspec": {
   "display_name": "Python 3",
   "language": "python",
   "name": "python3"
  },
  "language_info": {
   "codemirror_mode": {
    "name": "ipython",
    "version": 3
   },
   "file_extension": ".py",
   "mimetype": "text/x-python",
   "name": "python",
   "nbconvert_exporter": "python",
   "pygments_lexer": "ipython3",
   "version": "3.6.8"
  }
 },
 "nbformat": 4,
 "nbformat_minor": 2
}
