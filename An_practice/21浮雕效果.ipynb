{
 "cells": [
  {
   "cell_type": "code",
   "execution_count": 5,
   "metadata": {},
   "outputs": [
    {
     "data": {
      "text/plain": [
       "-1"
      ]
     },
     "execution_count": 5,
     "metadata": {},
     "output_type": "execute_result"
    }
   ],
   "source": [
    "import cv2\n",
    "import numpy as np\n",
    "img=cv2.imread('image_3.jpg',1)\n",
    "cv2.imshow('src',img)\n",
    "imgInfo=img.shape\n",
    "height=imgInfo[0]\n",
    "width=imgInfo[1]\n",
    "gray=cv2.cvtColor(img,cv2.COLOR_BGR2GRAY)\n",
    "#新的像素=像素1-像素2（相邻）+固定值\n",
    "#随机一个固定值为150\n",
    "dst=np.zeros((height,width,1),np.uint8)#定义一个效果矩阵\n",
    "for i in range(0,height):\n",
    "    for j in range(0,width-1):\n",
    "        gray0=int(gray[i,j])#获取当前像素点\n",
    "        gray1=int(gray[i,j+1])#获取相邻像素点\n",
    "        newP=gray0-gray1+150#套入公式\n",
    "        if newP>255:#像素范围是0-255，越界后更改\n",
    "            newP=255\n",
    "        if newP<0:\n",
    "            newP=0\n",
    "        dst[i,j]=newP#把最新的点给dst\n",
    "cv2.imshow('dst',dst)\n",
    "cv2.waitKey(0)"
   ]
  },
  {
   "cell_type": "code",
   "execution_count": null,
   "metadata": {},
   "outputs": [],
   "source": []
  }
 ],
 "metadata": {
  "kernelspec": {
   "display_name": "Python 3",
   "language": "python",
   "name": "python3"
  },
  "language_info": {
   "codemirror_mode": {
    "name": "ipython",
    "version": 3
   },
   "file_extension": ".py",
   "mimetype": "text/x-python",
   "name": "python",
   "nbconvert_exporter": "python",
   "pygments_lexer": "ipython3",
   "version": "3.6.8"
  }
 },
 "nbformat": 4,
 "nbformat_minor": 2
}
