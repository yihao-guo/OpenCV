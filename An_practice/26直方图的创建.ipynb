{
 "cells": [
  {
   "cell_type": "code",
   "execution_count": 2,
   "metadata": {},
   "outputs": [
    {
     "data": {
      "text/plain": [
       "-1"
      ]
     },
     "execution_count": 2,
     "metadata": {},
     "output_type": "execute_result"
    }
   ],
   "source": [
    "import cv2\n",
    "import numpy as np\n",
    "def ImageHist(image,type):\n",
    "    color=(255,255,255)\n",
    "    windowName='Gray'\n",
    "    if type==31:\n",
    "        color=(255,0,0)\n",
    "        windowName='B Hist'#蓝色\n",
    "    elif type==32:\n",
    "        color=(0,255,0)\n",
    "        windowName='G Hist'#绿色\n",
    "    elif type==33:\n",
    "        color=(0,0,255)\n",
    "        windowName='R Hist'#红色\n",
    "    #1 图片 2 [0]灰度图 3 mask蒙版 4  直方图的size（有几个柱状） 5 直方图中 各个像素的值 \n",
    "    hist=cv2.calcHist([image],[0],None,[256],[0.0,255.0])\n",
    "    minV,maxV,minL,maxL=cv2.minMaxLoc(hist)#最小值，最大值，最小值下标，最大值下标\n",
    "    histImg=np.zeros([256,256,3],np.uint8)\n",
    "    for i in range(256):\n",
    "        intenNormal=int(hist[i]*256/maxV)\n",
    "        cv2.line(histImg,(i,256),(i,256-intenNormal),color)\n",
    "    cv2.imshow(windowName,histImg)\n",
    "    return histImg\n",
    "img=cv2.imread('image_3.jpg',1)\n",
    "channels=cv2.split(img)\n",
    "for i in range(0,3):\n",
    "    ImageHist(channels[i],31+i)\n",
    "cv2.waitKey(0)\n",
    "\n",
    "    "
   ]
  },
  {
   "cell_type": "code",
   "execution_count": null,
   "metadata": {},
   "outputs": [],
   "source": []
  }
 ],
 "metadata": {
  "kernelspec": {
   "display_name": "Python 3",
   "language": "python",
   "name": "python3"
  },
  "language_info": {
   "codemirror_mode": {
    "name": "ipython",
    "version": 3
   },
   "file_extension": ".py",
   "mimetype": "text/x-python",
   "name": "python",
   "nbconvert_exporter": "python",
   "pygments_lexer": "ipython3",
   "version": "3.6.8"
  }
 },
 "nbformat": 4,
 "nbformat_minor": 2
}
