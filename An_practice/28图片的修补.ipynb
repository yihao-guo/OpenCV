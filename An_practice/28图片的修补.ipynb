{
 "cells": [
  {
   "cell_type": "code",
   "execution_count": 2,
   "metadata": {},
   "outputs": [
    {
     "data": {
      "text/plain": [
       "-1"
      ]
     },
     "execution_count": 2,
     "metadata": {},
     "output_type": "execute_result"
    }
   ],
   "source": [
    "import cv2\n",
    "import numpy as np\n",
    "img=cv2.imread('show.jpg',1)\n",
    "for i in range(200,300):\n",
    "    img[i,200]=(255,255,255)\n",
    "    img[i,200+1]=(255,255,255)\n",
    "    img[i,200-1]=(255,255,255)\n",
    "for i in range(150,250):\n",
    "    img[250,i]=(255,255,255)\n",
    "    img[250+1,i]=(255,255,255)\n",
    "    img[250-1,i]=(255,255,255)\n",
    "cv2.imwrite('damaged.jpg',img)\n",
    "cv2.imshow('image',img)\n",
    "cv2.waitKey(0)\n",
    "#先生成一个破坏了的图片"
   ]
  },
  {
   "cell_type": "code",
   "execution_count": 3,
   "metadata": {},
   "outputs": [
    {
     "data": {
      "text/plain": [
       "-1"
      ]
     },
     "execution_count": 3,
     "metadata": {},
     "output_type": "execute_result"
    }
   ],
   "source": [
    "#1 找到坏图 2 描绘出哪一段出问题 3 调用方法修补\n",
    "import cv2\n",
    "import numpy as np\n",
    "img=cv2.imread('damaged.jpg',1)\n",
    "cv2.imshow('src',img)\n",
    "imgInfo=img.shape\n",
    "height=imgInfo[0]\n",
    "width=imgInfo[1]\n",
    "paint=np.zeros((height,width,1),np.uint8)\n",
    "\n",
    "for i in range(200,300):\n",
    "    paint[i,200]=255\n",
    "    paint[i,200+1]=255\n",
    "    paint[i,200-1]=255\n",
    "for i in range(150,250):\n",
    "    paint[250,i]=255\n",
    "    paint[250+1,i]=255\n",
    "    paint[250-1,i]=255\n",
    "cv2.imshow('paint',paint)\n",
    "#1 坏图 2 蒙版 \n",
    "imgDst=cv2.inpaint(img,paint,3,cv2.INPAINT_TELEA)\n",
    "cv2.imshow('image',imgDst)\n",
    "cv2.waitKey(0)"
   ]
  },
  {
   "cell_type": "code",
   "execution_count": null,
   "metadata": {},
   "outputs": [],
   "source": []
  }
 ],
 "metadata": {
  "kernelspec": {
   "display_name": "Python 3",
   "language": "python",
   "name": "python3"
  },
  "language_info": {
   "codemirror_mode": {
    "name": "ipython",
    "version": 3
   },
   "file_extension": ".py",
   "mimetype": "text/x-python",
   "name": "python",
   "nbconvert_exporter": "python",
   "pygments_lexer": "ipython3",
   "version": "3.6.8"
  }
 },
 "nbformat": 4,
 "nbformat_minor": 2
}
