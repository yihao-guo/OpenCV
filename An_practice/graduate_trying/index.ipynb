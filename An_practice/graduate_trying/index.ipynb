{
 "cells": [
  {
   "cell_type": "code",
   "execution_count": null,
   "metadata": {},
   "outputs": [],
   "source": [
    "# author: Adrian Rosebrock\n",
    "# date: 27 January 2014\n",
    "# website: http://www.pyimagesearch.com\n",
    "\n",
    "# USAGE\n",
    "# python index.py --dataset images --index index.cpickle\n",
    "\n",
    "# import the necessary packages\n",
    "from pyimagesearch.rgbhistogram import RGBHistogram\n",
    "from imutils.paths import list_images\n",
    "import argparse\n",
    "import pickle\n",
    "import cv2\n",
    "\n",
    "# construct the argument parser and parse the arguments\n",
    "ap = argparse.ArgumentParser()\n",
    "ap.add_argument(\"-d\", \"--dataset\", required = True,\n",
    "\thelp = \"Path to the directory that contains the images to be indexed\")\n",
    "ap.add_argument(\"-i\", \"--index\", required = True,\n",
    "\thelp = \"Path to where the computed index will be stored\")\n",
    "args = vars(ap.parse_args())\n",
    "\n",
    "# initialize the index dictionary to store our our quantifed\n",
    "# images, with the 'key' of the dictionary being the image\n",
    "# filename and the 'value' our computed features\n",
    "index = {}\n",
    "\n",
    "# initialize our image descriptor -- a 3D RGB histogram with\n",
    "# 8 bins per channel\n",
    "desc = RGBHistogram([8, 8, 8])\n",
    "\n",
    "# use list_images to grab the image paths and loop over them\n",
    "for imagePath in list_images(args[\"dataset\"]):\n",
    "\t# extract our unique image ID (i.e. the filename)\n",
    "\tk = imagePath[imagePath.rfind(\"/\") + 1:]\n",
    "\n",
    "\t# load the image, describe it using our RGB histogram\n",
    "\t# descriptor, and update the index\n",
    "\timage = cv2.imread(imagePath)\n",
    "\tfeatures = desc.describe(image)\n",
    "\tindex[k] = features\n",
    "\n",
    "# we are now done indexing our image -- now we can write our\n",
    "# index to disk\n",
    "f = open(args[\"index\"], \"wb\")\n",
    "f.write(pickle.dumps(index))\n",
    "f.close()\n",
    "\n",
    "# show how many images we indexed\n",
    "print(\"[INFO] done...indexed {} images\".format(len(index)))"
   ]
  }
 ],
 "metadata": {
  "kernelspec": {
   "display_name": "Python 3",
   "language": "python",
   "name": "python3"
  },
  "language_info": {
   "codemirror_mode": {
    "name": "ipython",
    "version": 3
   },
   "file_extension": ".py",
   "mimetype": "text/x-python",
   "name": "python",
   "nbconvert_exporter": "python",
   "pygments_lexer": "ipython3",
   "version": "3.6.8"
  }
 },
 "nbformat": 4,
 "nbformat_minor": 2
}
